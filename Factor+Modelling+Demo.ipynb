{
 "cells": [
  {
   "cell_type": "code",
   "execution_count": 2,
   "metadata": {
    "collapsed": true
   },
   "outputs": [],
   "source": [
    "from quantopian.pipeline import Pipeline, CustomFactor\n",
    "from quantopian.research import run_pipeline\n",
    "from quantopian.pipeline.factors import SimpleMovingAverage,AverageDollarVolume,Returns\n",
    "from quantopian.pipeline.data.builtin import USEquityPricing\n",
    "from quantopian.pipeline.filters import Q1500US\n",
    "from quantopian.pipeline.classifiers.morningstar import Sector\n",
    "import alphalens as al\n",
    "import numpy as np\n",
    "\n",
    "MORNINGSTAR_SECTOR_CODES = {\n",
    "     -1: 'Misc',\n",
    "    101: 'Basic Materials',\n",
    "    102: 'Consumer Cyclical',\n",
    "    103: 'Financial Services',\n",
    "    104: 'Real Estate',\n",
    "    205: 'Consumer Defensive',\n",
    "    206: 'Healthcare',\n",
    "    207: 'Utilities',\n",
    "    308: 'Communication Services',\n",
    "    309: 'Energy',\n",
    "    310: 'Industrials',\n",
    "    311: 'Technology' ,    \n",
    "}\n",
    "\n"
   ]
  },
  {
   "cell_type": "code",
   "execution_count": 3,
   "metadata": {
    "collapsed": true
   },
   "outputs": [],
   "source": [
    "class MyCustomFactor(CustomFactor):\n",
    "    def compute(self,today,assets,out,close,returns):\n",
    "        out[:] = ((close[-21] - close[-252])/close[-252] -\n",
    "                      (close[-1] - close[-21])/close[-21]) / np.nanstd(returns, axis=0)"
   ]
  },
  {
   "cell_type": "code",
   "execution_count": null,
   "metadata": {
    "collapsed": true
   },
   "outputs": [],
   "source": [
    "def make_pipeline():\n",
    "    \n",
    "    # Instantiate some values\n",
    "    sector = Sector()\n",
    "    universe = Q1500US()\n",
    "    returns = Returns(window_length = 60)\n",
    "    \n",
    "    # Put your filters here\n",
    "    adv = AverageDollarVolume(window_length=10)>5e8\n",
    "    \n",
    "    # Put your factors here\n",
    "    price = USEquityPricing.close.latest\n",
    "    sma = SimpleMovingAverage(inputs=[USEquityPricing.close],window_length=20,mask=universe)\n",
    "    custom = MyCustomFactor(inputs=[USEquityPricing.close,returns],mask=universe,window_length=252)\n",
    "    \n",
    "    # Instanciate pipline\n",
    "    pipe = Pipeline(screen = universe)\n",
    "    \n",
    "    # Add Factors and Filters to Pipeline\n",
    "    pipe.add(USEquityPricing.close.latest,'price')\n",
    "    pipe.add(adv,'adv')\n",
    "    pipe.add(adv,'sma')\n",
    "    pipe.add(sector,'sector')\n",
    "    \n",
    "    return pipe"
   ]
  },
  {
   "cell_type": "code",
   "execution_count": null,
   "metadata": {
    "collapsed": true
   },
   "outputs": [],
   "source": [
    "result = run_pipeline(make_pipeline(),'2015-01-01', '2016-01-01')"
   ]
  },
  {
   "cell_type": "code",
   "execution_count": null,
   "metadata": {
    "collapsed": true
   },
   "outputs": [],
   "source": [
    "my_factor = result['sma']\n",
    "sectors = result['sector']\n",
    "\n",
    "# Get prices and extend them to make sure we capture the whole period\n",
    "prices = get_pricing(asset_list, start_date='2015-12-01', end_date='2016-02-01', fields='price')"
   ]
  },
  {
   "cell_type": "code",
   "execution_count": null,
   "metadata": {
    "collapsed": true
   },
   "outputs": [],
   "source": [
    "factor_data = al.utils.get_clean_factor_and_forward_returns(my_factor,\n",
    "                                                                   prices,\n",
    "                                                                   quantiles=5,\n",
    "                                                                   groupby=sectors,\n",
    "                                                                   groupby_labels=MORNINGSTAR_SECTOR_CODES,\n",
    "                                                                   periods=(1,5,10,20,30))"
   ]
  },
  {
   "cell_type": "code",
   "execution_count": null,
   "metadata": {
    "collapsed": true
   },
   "outputs": [],
   "source": [
    "al.tears.create_full_tear_sheet(factor_data,by_group=True)"
   ]
  }
 ],
 "metadata": {
  "kernelspec": {
   "display_name": "Python 2",
   "language": "python",
   "name": "python2"
  },
  "language_info": {
   "codemirror_mode": {
    "name": "ipython",
    "version": 2
   },
   "file_extension": ".py",
   "mimetype": "text/x-python",
   "name": "python",
   "nbconvert_exporter": "python",
   "pygments_lexer": "ipython2",
   "version": "2.7.12"
  }
 },
 "nbformat": 4,
 "nbformat_minor": 2
}